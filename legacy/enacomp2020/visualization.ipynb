{
 "cells": [
  {
   "cell_type": "code",
   "execution_count": 54,
   "metadata": {},
   "outputs": [],
   "source": [
    "import pandas as pd\n",
    "import copy\n",
    "from collections import defaultdict\n",
    "import matplotlib.pyplot as plt\n",
    "import seaborn as sns"
   ]
  },
  {
   "cell_type": "code",
   "execution_count": 1,
   "metadata": {},
   "outputs": [
    {
     "data": {
      "text/html": [
       "<div>\n",
       "<style scoped>\n",
       "    .dataframe tbody tr th:only-of-type {\n",
       "        vertical-align: middle;\n",
       "    }\n",
       "\n",
       "    .dataframe tbody tr th {\n",
       "        vertical-align: top;\n",
       "    }\n",
       "\n",
       "    .dataframe thead th {\n",
       "        text-align: right;\n",
       "    }\n",
       "</style>\n",
       "<table border=\"1\" class=\"dataframe\">\n",
       "  <thead>\n",
       "    <tr style=\"text-align: right;\">\n",
       "      <th></th>\n",
       "      <th>hashtag</th>\n",
       "      <th>gpt2_segmentation</th>\n",
       "      <th>heuristics_segmentation</th>\n",
       "      <th>edit_distance</th>\n",
       "    </tr>\n",
       "  </thead>\n",
       "  <tbody>\n",
       "    <tr>\n",
       "      <th>0</th>\n",
       "      <td>USA</td>\n",
       "      <td>usa</td>\n",
       "      <td>us a</td>\n",
       "      <td>1</td>\n",
       "    </tr>\n",
       "    <tr>\n",
       "      <th>1</th>\n",
       "      <td>NYC</td>\n",
       "      <td>nyc</td>\n",
       "      <td>ny c</td>\n",
       "      <td>1</td>\n",
       "    </tr>\n",
       "    <tr>\n",
       "      <th>2</th>\n",
       "      <td>ISC</td>\n",
       "      <td>isc</td>\n",
       "      <td>is c</td>\n",
       "      <td>1</td>\n",
       "    </tr>\n",
       "    <tr>\n",
       "      <th>3</th>\n",
       "      <td>BETA</td>\n",
       "      <td>beta</td>\n",
       "      <td>be ta</td>\n",
       "      <td>1</td>\n",
       "    </tr>\n",
       "    <tr>\n",
       "      <th>4</th>\n",
       "      <td>Havana</td>\n",
       "      <td>havana</td>\n",
       "      <td>havan a</td>\n",
       "      <td>1</td>\n",
       "    </tr>\n",
       "  </tbody>\n",
       "</table>\n",
       "</div>"
      ],
      "text/plain": [
       "  hashtag gpt2_segmentation heuristics_segmentation  edit_distance\n",
       "0     USA               usa                    us a              1\n",
       "1     NYC               nyc                    ny c              1\n",
       "2     ISC               isc                    is c              1\n",
       "3    BETA              beta                   be ta              1\n",
       "4  Havana            havana                 havan a              1"
      ]
     },
     "execution_count": 1,
     "metadata": {},
     "output_type": "execute_result"
    }
   ],
   "source": [
    "import pandas as pd\n",
    "import copy\n",
    "\n",
    "df = pd.read_csv('comparison.csv')\n",
    "df2 = pd.read_csv('hashtags-akira.csv', header=None)\n",
    "df3 = pd.read_csv('hashtags-acquila.csv', header=None)\n",
    "df.head()"
   ]
  },
  {
   "cell_type": "code",
   "execution_count": 2,
   "metadata": {},
   "outputs": [
    {
     "data": {
      "text/html": [
       "<div>\n",
       "<style scoped>\n",
       "    .dataframe tbody tr th:only-of-type {\n",
       "        vertical-align: middle;\n",
       "    }\n",
       "\n",
       "    .dataframe tbody tr th {\n",
       "        vertical-align: top;\n",
       "    }\n",
       "\n",
       "    .dataframe thead th {\n",
       "        text-align: right;\n",
       "    }\n",
       "</style>\n",
       "<table border=\"1\" class=\"dataframe\">\n",
       "  <thead>\n",
       "    <tr style=\"text-align: right;\">\n",
       "      <th></th>\n",
       "      <th>0</th>\n",
       "    </tr>\n",
       "  </thead>\n",
       "  <tbody>\n",
       "    <tr>\n",
       "      <th>0</th>\n",
       "      <td>USA</td>\n",
       "    </tr>\n",
       "    <tr>\n",
       "      <th>1</th>\n",
       "      <td>NYC</td>\n",
       "    </tr>\n",
       "    <tr>\n",
       "      <th>2</th>\n",
       "      <td>ISC</td>\n",
       "    </tr>\n",
       "    <tr>\n",
       "      <th>3</th>\n",
       "      <td>BETA</td>\n",
       "    </tr>\n",
       "    <tr>\n",
       "      <th>4</th>\n",
       "      <td>Havana</td>\n",
       "    </tr>\n",
       "  </tbody>\n",
       "</table>\n",
       "</div>"
      ],
      "text/plain": [
       "        0\n",
       "0     USA\n",
       "1     NYC\n",
       "2     ISC\n",
       "3    BETA\n",
       "4  Havana"
      ]
     },
     "execution_count": 2,
     "metadata": {},
     "output_type": "execute_result"
    }
   ],
   "source": [
    "df2.head()"
   ]
  },
  {
   "cell_type": "code",
   "execution_count": 3,
   "metadata": {},
   "outputs": [
    {
     "data": {
      "text/html": [
       "<div>\n",
       "<style scoped>\n",
       "    .dataframe tbody tr th:only-of-type {\n",
       "        vertical-align: middle;\n",
       "    }\n",
       "\n",
       "    .dataframe tbody tr th {\n",
       "        vertical-align: top;\n",
       "    }\n",
       "\n",
       "    .dataframe thead th {\n",
       "        text-align: right;\n",
       "    }\n",
       "</style>\n",
       "<table border=\"1\" class=\"dataframe\">\n",
       "  <thead>\n",
       "    <tr style=\"text-align: right;\">\n",
       "      <th></th>\n",
       "      <th>0</th>\n",
       "    </tr>\n",
       "  </thead>\n",
       "  <tbody>\n",
       "    <tr>\n",
       "      <th>0</th>\n",
       "      <td>USA</td>\n",
       "    </tr>\n",
       "    <tr>\n",
       "      <th>1</th>\n",
       "      <td>NYC</td>\n",
       "    </tr>\n",
       "    <tr>\n",
       "      <th>2</th>\n",
       "      <td>ISC</td>\n",
       "    </tr>\n",
       "    <tr>\n",
       "      <th>3</th>\n",
       "      <td>BETA</td>\n",
       "    </tr>\n",
       "    <tr>\n",
       "      <th>4</th>\n",
       "      <td>Havana</td>\n",
       "    </tr>\n",
       "  </tbody>\n",
       "</table>\n",
       "</div>"
      ],
      "text/plain": [
       "        0\n",
       "0     USA\n",
       "1     NYC\n",
       "2     ISC\n",
       "3    BETA\n",
       "4  Havana"
      ]
     },
     "execution_count": 3,
     "metadata": {},
     "output_type": "execute_result"
    }
   ],
   "source": [
    "df3.head()"
   ]
  },
  {
   "cell_type": "code",
   "execution_count": 4,
   "metadata": {},
   "outputs": [],
   "source": [
    "df2['hashtag'] = df2[0].str.replace(\" \", \"\")\n",
    "merged_df = df.merge(df2, on='hashtag')\n",
    "\n",
    "df3.rename(columns={\n",
    "    0: 1\n",
    "}, inplace=True)\n",
    "df3['hashtag'] = df3[1].str.replace(\" \", \"\")\n",
    "merged_df = merged_df.merge(df3, on='hashtag')"
   ]
  },
  {
   "cell_type": "code",
   "execution_count": 5,
   "metadata": {},
   "outputs": [
    {
     "data": {
      "text/html": [
       "<div>\n",
       "<style scoped>\n",
       "    .dataframe tbody tr th:only-of-type {\n",
       "        vertical-align: middle;\n",
       "    }\n",
       "\n",
       "    .dataframe tbody tr th {\n",
       "        vertical-align: top;\n",
       "    }\n",
       "\n",
       "    .dataframe thead th {\n",
       "        text-align: right;\n",
       "    }\n",
       "</style>\n",
       "<table border=\"1\" class=\"dataframe\">\n",
       "  <thead>\n",
       "    <tr style=\"text-align: right;\">\n",
       "      <th></th>\n",
       "      <th>hashtag</th>\n",
       "      <th>gpt2_segmentation</th>\n",
       "      <th>heuristics_segmentation</th>\n",
       "      <th>edit_distance</th>\n",
       "      <th>0</th>\n",
       "      <th>1</th>\n",
       "    </tr>\n",
       "  </thead>\n",
       "  <tbody>\n",
       "    <tr>\n",
       "      <th>0</th>\n",
       "      <td>USA</td>\n",
       "      <td>usa</td>\n",
       "      <td>us a</td>\n",
       "      <td>1</td>\n",
       "      <td>USA</td>\n",
       "      <td>USA</td>\n",
       "    </tr>\n",
       "    <tr>\n",
       "      <th>1</th>\n",
       "      <td>NYC</td>\n",
       "      <td>nyc</td>\n",
       "      <td>ny c</td>\n",
       "      <td>1</td>\n",
       "      <td>NYC</td>\n",
       "      <td>NYC</td>\n",
       "    </tr>\n",
       "    <tr>\n",
       "      <th>2</th>\n",
       "      <td>ISC</td>\n",
       "      <td>isc</td>\n",
       "      <td>is c</td>\n",
       "      <td>1</td>\n",
       "      <td>ISC</td>\n",
       "      <td>ISC</td>\n",
       "    </tr>\n",
       "    <tr>\n",
       "      <th>3</th>\n",
       "      <td>BETA</td>\n",
       "      <td>beta</td>\n",
       "      <td>be ta</td>\n",
       "      <td>1</td>\n",
       "      <td>BETA</td>\n",
       "      <td>BETA</td>\n",
       "    </tr>\n",
       "    <tr>\n",
       "      <th>4</th>\n",
       "      <td>Havana</td>\n",
       "      <td>havana</td>\n",
       "      <td>havan a</td>\n",
       "      <td>1</td>\n",
       "      <td>Havana</td>\n",
       "      <td>Havana</td>\n",
       "    </tr>\n",
       "  </tbody>\n",
       "</table>\n",
       "</div>"
      ],
      "text/plain": [
       "  hashtag gpt2_segmentation heuristics_segmentation  edit_distance       0  \\\n",
       "0     USA               usa                    us a              1     USA   \n",
       "1     NYC               nyc                    ny c              1     NYC   \n",
       "2     ISC               isc                    is c              1     ISC   \n",
       "3    BETA              beta                   be ta              1    BETA   \n",
       "4  Havana            havana                 havan a              1  Havana   \n",
       "\n",
       "        1  \n",
       "0     USA  \n",
       "1     NYC  \n",
       "2     ISC  \n",
       "3    BETA  \n",
       "4  Havana  "
      ]
     },
     "execution_count": 5,
     "metadata": {},
     "output_type": "execute_result"
    }
   ],
   "source": [
    "merged_df.head()"
   ]
  },
  {
   "cell_type": "code",
   "execution_count": 6,
   "metadata": {},
   "outputs": [
    {
     "data": {
      "text/plain": [
       "1         AxesSubplot(0.1,0.15;0.114286x0.75)\n",
       "2    AxesSubplot(0.237143,0.15;0.114286x0.75)\n",
       "3    AxesSubplot(0.374286,0.15;0.114286x0.75)\n",
       "4    AxesSubplot(0.511429,0.15;0.114286x0.75)\n",
       "5    AxesSubplot(0.648571,0.15;0.114286x0.75)\n",
       "dtype: object"
      ]
     },
     "execution_count": 6,
     "metadata": {},
     "output_type": "execute_result"
    },
    {
     "data": {
      "image/png": "[encoded data removed]",
      "text/plain": [
       "<Figure size 1440x144 with 6 Axes>"
      ]
     },
     "metadata": {
      "needs_background": "light"
     },
     "output_type": "display_data"
    }
   ],
   "source": [
    "df = merged_df\n",
    "\n",
    "\n",
    "df.rename(columns={\n",
    "    0: 'gold',\n",
    "    1: 'human'\n",
    "}, inplace=True)\n",
    "\n",
    "import editdistance\n",
    "df['gpt2_heu_distance'] = df['gpt2_segmentation'].combine(df['heuristics_segmentation'], editdistance.eval)\n",
    "df['gpt2_gold_distance'] = df['heuristics_segmentation'].combine(df['gold'], editdistance.eval)\n",
    "df['heu_gold_distance'] = df['gpt2_segmentation'].combine(df['gold'], editdistance.eval)\n",
    "df['human_gold_distance'] = df['human'].combine(df['gold'], editdistance.eval)\n",
    "\n",
    "original_df = copy.deepcopy(df)\n",
    "\n",
    "df = df[['gpt2_heu_distance', 'gpt2_gold_distance', 'heu_gold_distance', 'human_gold_distance']]\n",
    "import numpy as np\n",
    "\n",
    "df = df.astype(int)\n",
    "for item in ['gpt2_heu_distance', 'gpt2_gold_distance', 'heu_gold_distance']:\n",
    "    df[item] = df[item].apply(lambda x: 5 if x > 5 else x)\n",
    "\n",
    "df = df.rename(columns={\n",
    "    \"gpt2_heu_distance\": \"d(M, H)\",\n",
    "    \"gpt2_gold_distance\": \"d(G, M)\",\n",
    "    \"heu_gold_distance\": \"d(G, H)\",\n",
    "    \"human_gold_distance\": \"d(G, A)\"\n",
    "})\n",
    "\n",
    "plot = df.set_index(\"d(M, H)\").groupby(\"d(M, H)\").boxplot(layout=(1,6), rot=45, fontsize=12, figsize=(20,2))\n",
    "\n",
    "plot"
   ]
  },
  {
   "cell_type": "code",
   "execution_count": 7,
   "metadata": {},
   "outputs": [],
   "source": [
    "df = merged_df\n",
    "\n",
    "\n",
    "df.rename(columns={\n",
    "    0: 'gold',\n",
    "    1: 'human'\n",
    "}, inplace=True)\n",
    "\n",
    "df = df[['human_gold_distance', 'human', 'gold']]\n",
    "df = df[df['human_gold_distance'] > 0]\n",
    "pd.set_option('display.max_rows', 200)\n",
    "df = df.sort_values('human_gold_distance').groupby('human_gold_distance').head(100)\n",
    "df = df[['human', 'gold']]\n",
    "df = df.rename(columns={\n",
    "    \"human\": \"acquila\",\n",
    "    \"gold\": \"akira\"\n",
    "})\n",
    "\n",
    "df.to_csv('acquila_akira_comparacao.tsv', index=False, sep='\\t')"
   ]
  },
  {
   "cell_type": "code",
   "execution_count": 8,
   "metadata": {},
   "outputs": [
    {
     "data": {
      "text/plain": [
       "(100, 2)"
      ]
     },
     "execution_count": 8,
     "metadata": {},
     "output_type": "execute_result"
    }
   ],
   "source": [
    "df.shape"
   ]
  },
  {
   "cell_type": "code",
   "execution_count": 31,
   "metadata": {},
   "outputs": [],
   "source": [
    "df = original_df.applymap(lambda x: x.lower() if isinstance(x, str) else x )\n",
    "\n",
    "hashtags = {\n",
    "    'gold' : df['gold'].values.tolist(),\n",
    "    'human' : df['human'].values.tolist(),\n",
    "    'model' : df['gpt2_segmentation'].values.tolist(),\n",
    "    'heuristics' : df['heuristics_segmentation'].values.tolist()\n",
    "}"
   ]
  },
  {
   "cell_type": "code",
   "execution_count": 21,
   "metadata": {},
   "outputs": [],
   "source": [
    "import json\n",
    "import string\n",
    "\n",
    "def get_from_dict(dct, *keys):\n",
    "    for key in keys:\n",
    "        dct = dct[key]\n",
    "    return dct\n",
    "\n",
    "def get_category(char):\n",
    "    if not char.strip():\n",
    "        return \"SPACE\"\n",
    "    elif char in string.punctuation:\n",
    "        return \"PUNCT\"\n",
    "    else:\n",
    "        return \"CHAR\"\n",
    "\n",
    "class DFA(object):\n",
    "\n",
    "    def __init__(self, filename, initial_state='s0', chars=['B', 'M', 'E', 'S']):\n",
    "        with open(filename,'r') as f:\n",
    "            self.dfa = json.load(f)\n",
    "        self.initial_state = initial_state\n",
    "        self.chars = chars\n",
    "\n",
    "    def run_DFA(self, string_input):\n",
    "        state = self.initial_state\n",
    "        output = ''\n",
    "        if not any(string_input.endswith(x) for x in string.punctuation):\n",
    "            string_input += '.'\n",
    "        for char in string_input:\n",
    "            category = get_category(char)\n",
    "            state = get_from_dict(self.dfa, state, category)\n",
    "            output += state\n",
    "        output = [ x for x in output if x in self.chars]\n",
    "        return output"
   ]
  },
  {
   "cell_type": "code",
   "execution_count": 84,
   "metadata": {},
   "outputs": [
    {
     "data": {
      "text/html": [
       "<div>\n",
       "<style scoped>\n",
       "    .dataframe tbody tr th:only-of-type {\n",
       "        vertical-align: middle;\n",
       "    }\n",
       "\n",
       "    .dataframe tbody tr th {\n",
       "        vertical-align: top;\n",
       "    }\n",
       "\n",
       "    .dataframe thead th {\n",
       "        text-align: right;\n",
       "    }\n",
       "</style>\n",
       "<table border=\"1\" class=\"dataframe\">\n",
       "  <thead>\n",
       "    <tr style=\"text-align: right;\">\n",
       "      <th>Annotator B</th>\n",
       "      <th>GPT-2</th>\n",
       "      <th>Gold standard</th>\n",
       "      <th>Heuristics</th>\n",
       "      <th>Human</th>\n",
       "    </tr>\n",
       "    <tr>\n",
       "      <th>Annotator A</th>\n",
       "      <th></th>\n",
       "      <th></th>\n",
       "      <th></th>\n",
       "      <th></th>\n",
       "    </tr>\n",
       "  </thead>\n",
       "  <tbody>\n",
       "    <tr>\n",
       "      <th>Gold standard</th>\n",
       "      <td>0.898</td>\n",
       "      <td></td>\n",
       "      <td></td>\n",
       "      <td></td>\n",
       "    </tr>\n",
       "    <tr>\n",
       "      <th>Heuristics</th>\n",
       "      <td>0.601</td>\n",
       "      <td>0.679</td>\n",
       "      <td></td>\n",
       "      <td></td>\n",
       "    </tr>\n",
       "    <tr>\n",
       "      <th>Human</th>\n",
       "      <td>0.897</td>\n",
       "      <td>0.969</td>\n",
       "      <td>0.682</td>\n",
       "      <td></td>\n",
       "    </tr>\n",
       "  </tbody>\n",
       "</table>\n",
       "</div>"
      ],
      "text/plain": [
       "Annotator B    GPT-2 Gold standard Heuristics Human\n",
       "Annotator A                                        \n",
       "Gold standard  0.898                               \n",
       "Heuristics     0.601         0.679                 \n",
       "Human          0.897         0.969      0.682      "
      ]
     },
     "execution_count": 84,
     "metadata": {},
     "output_type": "execute_result"
    }
   ],
   "source": [
    "dfa = DFA('dfa.json')\n",
    "\n",
    "labels = defaultdict(list)\n",
    "for key in hashtags.keys():\n",
    "    label_key = key + '_labels'\n",
    "    for hashtag in hashtags[key]:\n",
    "        dfa_output = dfa.run_DFA(hashtag)\n",
    "        labels[label_key].extend(dfa_output)\n",
    "\n",
    "from sklearn.metrics import cohen_kappa_score\n",
    "import itertools\n",
    "\n",
    "annotator_pairs = list(itertools.permutations(labels.keys(), 2))\n",
    "\n",
    "kappa_df = []\n",
    "\n",
    "label_dict = {\n",
    "    \"heuristics_labels\": \"Heuristics\",\n",
    "    \"human_labels\": \"Human\",\n",
    "    \"model_labels\": \"GPT-2\",\n",
    "    \"gold_labels\": \"Gold standard\"\n",
    "}\n",
    "\n",
    "for pair in annotator_pairs:\n",
    "    a = labels[pair[0]]\n",
    "    b = labels[pair[1]]\n",
    "    row = {\n",
    "        \"Annotator A\": label_dict[pair[0]],\n",
    "        \"Annotator B\": label_dict[pair[1]],\n",
    "        \"kappa\": cohen_kappa_score(a,b)\n",
    "    }\n",
    "    kappa_df.append(row)\n",
    "\n",
    "kappa_df = pd.DataFrame(kappa_df)\n",
    "kappa_df = kappa_df.pivot(index='Annotator A', columns='Annotator B', values='kappa').fillna(1.0).round(3)\n",
    "\n",
    "\n",
    "# Generate a mask for the upper triangle\n",
    "mask = np.triu(np.ones_like(kappa_df, dtype=bool))\n",
    "\n",
    "kappa_output_df = kappa_df.where(~mask).dropna(how='all').fillna(\" \")\n",
    "kappa_output_df"
   ]
  },
  {
   "cell_type": "code",
   "execution_count": 85,
   "metadata": {},
   "outputs": [
    {
     "name": "stdout",
     "output_type": "stream",
     "text": [
      "\\begin{tabular}{lrlll}\n",
      "\\toprule\n",
      "Annotator B &  GPT-2 & Gold standard & Heuristics & Human \\\\\n",
      "Annotator A   &        &               &            &       \\\\\n",
      "\\midrule\n",
      "Gold standard &  0.898 &               &            &       \\\\\n",
      "Heuristics    &  0.601 &         0.679 &            &       \\\\\n",
      "Human         &  0.897 &         0.969 &      0.682 &       \\\\\n",
      "\\bottomrule\n",
      "\\end{tabular}\n",
      "\n"
     ]
    }
   ],
   "source": [
    "print(kappa_output_df.to_latex())"
   ]
  },
  {
   "cell_type": "code",
   "execution_count": null,
   "metadata": {},
   "outputs": [],
   "source": []
  }
 ],
 "metadata": {
  "kernelspec": {
   "display_name": "Python 3",
   "language": "python",
   "name": "python3"
  },
  "language_info": {
   "codemirror_mode": {
    "name": "ipython",
    "version": 3
   },
   "file_extension": ".py",
   "mimetype": "text/x-python",
   "name": "python",
   "nbconvert_exporter": "python",
   "pygments_lexer": "ipython3",
   "version": "3.8.3"
  }
 },
 "nbformat": 4,
 "nbformat_minor": 4
}
