{
 "cells": [
  {
   "cell_type": "code",
   "execution_count": 1,
   "metadata": {},
   "outputs": [
    {
     "data": {
      "text/html": [
       "<div>\n",
       "<style scoped>\n",
       "    .dataframe tbody tr th:only-of-type {\n",
       "        vertical-align: middle;\n",
       "    }\n",
       "\n",
       "    .dataframe tbody tr th {\n",
       "        vertical-align: top;\n",
       "    }\n",
       "\n",
       "    .dataframe thead th {\n",
       "        text-align: right;\n",
       "    }\n",
       "</style>\n",
       "<table border=\"1\" class=\"dataframe\">\n",
       "  <thead>\n",
       "    <tr style=\"text-align: right;\">\n",
       "      <th></th>\n",
       "      <th>hashtag</th>\n",
       "      <th>gpt2_segmentation</th>\n",
       "      <th>heuristics_segmentation</th>\n",
       "      <th>edit_distance</th>\n",
       "    </tr>\n",
       "  </thead>\n",
       "  <tbody>\n",
       "    <tr>\n",
       "      <th>0</th>\n",
       "      <td>USA</td>\n",
       "      <td>usa</td>\n",
       "      <td>us a</td>\n",
       "      <td>1</td>\n",
       "    </tr>\n",
       "    <tr>\n",
       "      <th>1</th>\n",
       "      <td>NYC</td>\n",
       "      <td>nyc</td>\n",
       "      <td>ny c</td>\n",
       "      <td>1</td>\n",
       "    </tr>\n",
       "    <tr>\n",
       "      <th>2</th>\n",
       "      <td>ISC</td>\n",
       "      <td>isc</td>\n",
       "      <td>is c</td>\n",
       "      <td>1</td>\n",
       "    </tr>\n",
       "    <tr>\n",
       "      <th>3</th>\n",
       "      <td>BETA</td>\n",
       "      <td>beta</td>\n",
       "      <td>be ta</td>\n",
       "      <td>1</td>\n",
       "    </tr>\n",
       "    <tr>\n",
       "      <th>4</th>\n",
       "      <td>Havana</td>\n",
       "      <td>havana</td>\n",
       "      <td>havan a</td>\n",
       "      <td>1</td>\n",
       "    </tr>\n",
       "  </tbody>\n",
       "</table>\n",
       "</div>"
      ],
      "text/plain": [
       "  hashtag gpt2_segmentation heuristics_segmentation  edit_distance\n",
       "0     USA               usa                    us a              1\n",
       "1     NYC               nyc                    ny c              1\n",
       "2     ISC               isc                    is c              1\n",
       "3    BETA              beta                   be ta              1\n",
       "4  Havana            havana                 havan a              1"
      ]
     },
     "execution_count": 1,
     "metadata": {},
     "output_type": "execute_result"
    }
   ],
   "source": [
    "import pandas as pd\n",
    "\n",
    "df = pd.read_csv('comparison.csv')\n",
    "df2 = pd.read_csv('hashtags-akira.csv', header=None)\n",
    "df.head()"
   ]
  },
  {
   "cell_type": "code",
   "execution_count": 2,
   "metadata": {},
   "outputs": [
    {
     "data": {
      "text/html": [
       "<div>\n",
       "<style scoped>\n",
       "    .dataframe tbody tr th:only-of-type {\n",
       "        vertical-align: middle;\n",
       "    }\n",
       "\n",
       "    .dataframe tbody tr th {\n",
       "        vertical-align: top;\n",
       "    }\n",
       "\n",
       "    .dataframe thead th {\n",
       "        text-align: right;\n",
       "    }\n",
       "</style>\n",
       "<table border=\"1\" class=\"dataframe\">\n",
       "  <thead>\n",
       "    <tr style=\"text-align: right;\">\n",
       "      <th></th>\n",
       "      <th>0</th>\n",
       "    </tr>\n",
       "  </thead>\n",
       "  <tbody>\n",
       "    <tr>\n",
       "      <th>0</th>\n",
       "      <td>USA</td>\n",
       "    </tr>\n",
       "    <tr>\n",
       "      <th>1</th>\n",
       "      <td>NYC</td>\n",
       "    </tr>\n",
       "    <tr>\n",
       "      <th>2</th>\n",
       "      <td>ISC</td>\n",
       "    </tr>\n",
       "    <tr>\n",
       "      <th>3</th>\n",
       "      <td>BETA</td>\n",
       "    </tr>\n",
       "    <tr>\n",
       "      <th>4</th>\n",
       "      <td>Havana</td>\n",
       "    </tr>\n",
       "  </tbody>\n",
       "</table>\n",
       "</div>"
      ],
      "text/plain": [
       "        0\n",
       "0     USA\n",
       "1     NYC\n",
       "2     ISC\n",
       "3    BETA\n",
       "4  Havana"
      ]
     },
     "execution_count": 2,
     "metadata": {},
     "output_type": "execute_result"
    }
   ],
   "source": [
    "df2.head()"
   ]
  },
  {
   "cell_type": "code",
   "execution_count": 3,
   "metadata": {},
   "outputs": [],
   "source": [
    "df2['hashtag'] = df2[0].str.replace(\" \", \"\")\n",
    "merged_df = df.merge(df2, on='hashtag')"
   ]
  },
  {
   "cell_type": "code",
   "execution_count": 4,
   "metadata": {},
   "outputs": [
    {
     "data": {
      "text/html": [
       "<div>\n",
       "<style scoped>\n",
       "    .dataframe tbody tr th:only-of-type {\n",
       "        vertical-align: middle;\n",
       "    }\n",
       "\n",
       "    .dataframe tbody tr th {\n",
       "        vertical-align: top;\n",
       "    }\n",
       "\n",
       "    .dataframe thead th {\n",
       "        text-align: right;\n",
       "    }\n",
       "</style>\n",
       "<table border=\"1\" class=\"dataframe\">\n",
       "  <thead>\n",
       "    <tr style=\"text-align: right;\">\n",
       "      <th></th>\n",
       "      <th>hashtag</th>\n",
       "      <th>gpt2_segmentation</th>\n",
       "      <th>heuristics_segmentation</th>\n",
       "      <th>gpt2_heuristics_edit_distance</th>\n",
       "      <th>gold</th>\n",
       "    </tr>\n",
       "  </thead>\n",
       "  <tbody>\n",
       "    <tr>\n",
       "      <th>0</th>\n",
       "      <td>USA</td>\n",
       "      <td>usa</td>\n",
       "      <td>us a</td>\n",
       "      <td>1</td>\n",
       "      <td>USA</td>\n",
       "    </tr>\n",
       "    <tr>\n",
       "      <th>1</th>\n",
       "      <td>NYC</td>\n",
       "      <td>nyc</td>\n",
       "      <td>ny c</td>\n",
       "      <td>1</td>\n",
       "      <td>NYC</td>\n",
       "    </tr>\n",
       "    <tr>\n",
       "      <th>2</th>\n",
       "      <td>ISC</td>\n",
       "      <td>isc</td>\n",
       "      <td>is c</td>\n",
       "      <td>1</td>\n",
       "      <td>ISC</td>\n",
       "    </tr>\n",
       "    <tr>\n",
       "      <th>3</th>\n",
       "      <td>BETA</td>\n",
       "      <td>beta</td>\n",
       "      <td>be ta</td>\n",
       "      <td>1</td>\n",
       "      <td>BETA</td>\n",
       "    </tr>\n",
       "    <tr>\n",
       "      <th>4</th>\n",
       "      <td>Havana</td>\n",
       "      <td>havana</td>\n",
       "      <td>havan a</td>\n",
       "      <td>1</td>\n",
       "      <td>Havana</td>\n",
       "    </tr>\n",
       "  </tbody>\n",
       "</table>\n",
       "</div>"
      ],
      "text/plain": [
       "  hashtag gpt2_segmentation heuristics_segmentation  \\\n",
       "0     USA               usa                    us a   \n",
       "1     NYC               nyc                    ny c   \n",
       "2     ISC               isc                    is c   \n",
       "3    BETA              beta                   be ta   \n",
       "4  Havana            havana                 havan a   \n",
       "\n",
       "   gpt2_heuristics_edit_distance    gold  \n",
       "0                              1     USA  \n",
       "1                              1     NYC  \n",
       "2                              1     ISC  \n",
       "3                              1    BETA  \n",
       "4                              1  Havana  "
      ]
     },
     "execution_count": 4,
     "metadata": {},
     "output_type": "execute_result"
    }
   ],
   "source": [
    "merged_df.head()"
   ]
  },
  {
   "cell_type": "code",
   "execution_count": 62,
   "metadata": {},
   "outputs": [
    {
     "data": {
      "text/plain": [
       "1         AxesSubplot(0.1,0.15;0.114286x0.75)\n",
       "2    AxesSubplot(0.237143,0.15;0.114286x0.75)\n",
       "3    AxesSubplot(0.374286,0.15;0.114286x0.75)\n",
       "4    AxesSubplot(0.511429,0.15;0.114286x0.75)\n",
       "5    AxesSubplot(0.648571,0.15;0.114286x0.75)\n",
       "dtype: object"
      ]
     },
     "execution_count": 62,
     "metadata": {},
     "output_type": "execute_result"
    },
    {
     "data": {
      "image/png": "[encoded data removed]",
      "text/plain": [
       "<Figure size 1440x144 with 6 Axes>"
      ]
     },
     "metadata": {
      "needs_background": "light"
     },
     "output_type": "display_data"
    }
   ],
   "source": [
    "df = merged_df\n",
    "import editdistance\n",
    "df['gpt2_heu_distance'] = df['gpt2_segmentation'].combine(df['heuristics_segmentation'], editdistance.eval)\n",
    "df['gpt2_gold_distance'] = df['heuristics_segmentation'].combine(df['gold'], editdistance.eval)\n",
    "df['heu_gold_distance'] = df['gpt2_segmentation'].combine(df['gold'], editdistance.eval)\n",
    "df = df[['gpt2_heu_distance', 'gpt2_gold_distance', 'heu_gold_distance']]\n",
    "import numpy as np\n",
    "\n",
    "df = df.astype(int)\n",
    "for item in ['gpt2_heu_distance', 'gpt2_gold_distance', 'heu_gold_distance']:\n",
    "    df[item] = df[item].apply(lambda x: 5 if x > 5 else x)\n",
    "\n",
    "df = df.rename(columns={\n",
    "    \"gpt2_heu_distance\": \"d(M, H)\",\n",
    "    \"gpt2_gold_distance\": \"d(G, M)\",\n",
    "    \"heu_gold_distance\": \"d(G, H)\"\n",
    "})\n",
    "\n",
    "plot = df.set_index(\"d(M, H)\").groupby(\"d(M, H)\").boxplot(layout=(1,6), rot=45, fontsize=12, figsize=(20,2))\n",
    "\n",
    "plot"
   ]
  },
  {
   "cell_type": "code",
   "execution_count": null,
   "metadata": {},
   "outputs": [],
   "source": []
  }
 ],
 "metadata": {
  "kernelspec": {
   "display_name": "Python 3",
   "language": "python",
   "name": "python3"
  },
  "language_info": {
   "codemirror_mode": {
    "name": "ipython",
    "version": 3
   },
   "file_extension": ".py",
   "mimetype": "text/x-python",
   "name": "python",
   "nbconvert_exporter": "python",
   "pygments_lexer": "ipython3",
   "version": "3.8.3"
  }
 },
 "nbformat": 4,
 "nbformat_minor": 4
}
